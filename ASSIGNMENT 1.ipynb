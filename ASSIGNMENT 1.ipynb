{
 "cells": [
  {
   "cell_type": "code",
   "execution_count": 2,
   "metadata": {},
   "outputs": [
    {
     "data": {
      "text/plain": [
       "0.988"
      ]
     },
     "execution_count": 2,
     "metadata": {},
     "output_type": "execute_result"
    }
   ],
   "source": [
    "import math\n",
    "x=1.1\n",
    "y=3.1\n",
    "z=math.sqrt(math.sin(x*y**3))\n",
    "round(z,ndigits=3)"
   ]
  },
  {
   "cell_type": "code",
   "execution_count": 3,
   "metadata": {},
   "outputs": [
    {
     "data": {
      "text/plain": [
       "1.619"
      ]
     },
     "execution_count": 3,
     "metadata": {},
     "output_type": "execute_result"
    }
   ],
   "source": [
    "import math\n",
    "z=(math.pi)**2*(math.tan(0.2))**3+math.exp(.43)\n",
    "round(z,ndigits=3)\n",
    "\n"
   ]
  },
  {
   "cell_type": "code",
   "execution_count": 27,
   "metadata": {},
   "outputs": [
    {
     "data": {
      "text/plain": [
       "4.72"
      ]
     },
     "execution_count": 27,
     "metadata": {},
     "output_type": "execute_result"
    }
   ],
   "source": [
    "import math\n",
    "x=3*math.sin (.3)\n",
    "y=4*x**2+math.cos(x)\n",
    "z=math.sqrt(x)+y\n",
    "round(z,ndigits=2)"
   ]
  },
  {
   "cell_type": "code",
   "execution_count": 1,
   "metadata": {},
   "outputs": [
    {
     "data": {
      "text/plain": [
       "270725"
      ]
     },
     "execution_count": 1,
     "metadata": {},
     "output_type": "execute_result"
    }
   ],
   "source": [
    "import math\n",
    "math.comb(52,4)"
   ]
  },
  {
   "cell_type": "code",
   "execution_count": 4,
   "metadata": {},
   "outputs": [
    {
     "name": "stdout",
     "output_type": "stream",
     "text": [
      "[1, 6, 18, 28]\n"
     ]
    }
   ],
   "source": [
    "x=[1,3,6,7]\n",
    "y=[1,2,3,4]\n",
    "z=[]\n",
    "for i in range(len(x)):\n",
    "    z.append(x[i]*y[i])\n",
    "print(z)\n"
   ]
  },
  {
   "cell_type": "code",
   "execution_count": 14,
   "metadata": {},
   "outputs": [
    {
     "name": "stdout",
     "output_type": "stream",
     "text": [
      "1.01\n",
      "1.06\n",
      "1.20\n",
      "1.32\n"
     ]
    }
   ],
   "source": [
    "import math\n",
    "x=[1,3,6,7]\n",
    "y=[1,2,3,4]\n",
    "z=[math.exp(x[i] * y[i]*0.01) for i in range(len(x))]\n",
    "for i in z:\n",
    "    print(\"{0:.2f}\".format(i))\n"
   ]
  },
  {
   "cell_type": "code",
   "execution_count": 16,
   "metadata": {},
   "outputs": [
    {
     "name": "stdout",
     "output_type": "stream",
     "text": [
      "2.20e+04\n",
      "1.14e+26\n",
      "1.49e+78\n",
      "4.00e+121\n"
     ]
    }
   ],
   "source": [
    "import math\n",
    "x=[1,3,6,7]\n",
    "y=[1,2,3,4]\n",
    "z=[math.exp(x[i] * y[i]* 10) for i in range(len(x))]\n",
    "for i in z:\n",
    "    print(\"{0:.2e}\".format(i))"
   ]
  },
  {
   "cell_type": "code",
   "execution_count": 5,
   "metadata": {},
   "outputs": [],
   "source": [
    "import math\n",
    "x=[1,3,6,7]\n",
    "y=[1,2,3,4]\n",
    "z=[math.exp(x[i] * y[i]* 10) for i in range(len(x))]\n",
    "with open('f1.txt', 'w') as f:\n",
    "    for i in z:\n",
    "        i=(\"{0:.2e}\".format(i))\n",
    "        f.write(i)\n",
    "        f.write('\\n')"
   ]
  },
  {
   "cell_type": "code",
   "execution_count": 15,
   "metadata": {},
   "outputs": [],
   "source": [
    "import math\n",
    "f = open('f1.txt','r')\n",
    "with open('f2.txt', 'w') as n:\n",
    "    for i in f:\n",
    "        i=float(i)\n",
    "        i=i*2\n",
    "        i=(\"{0:.2e}\".format(i))\n",
    "        i=str(i)\n",
    "        n.write(i)\n",
    "        n.write('\\n')"
   ]
  },
  {
   "cell_type": "code",
   "execution_count": 7,
   "metadata": {},
   "outputs": [
    {
     "name": "stdout",
     "output_type": "stream",
     "text": [
      "['-0.00', '0.00', '0.00', '2.08']\n",
      "['18.00', '-0.00', '18.00', '-0.00']\n",
      "['0.16', '0.99', '1.00', '1.41']\n"
     ]
    }
   ],
   "source": [
    "import cmath\n",
    "x=-2\n",
    "y=cmath.sqrt(-1)*3\n",
    "z=[x**y,x*y**2,cmath.exp(cmath.sqrt(x))]\n",
    "for i in z:\n",
    "    x=[]\n",
    "    x.append(\"{0:.2f}\".format(i.real))\n",
    "    x.append(\"{0:.2f}\".format(i.imag))\n",
    "    x.append(\"{0:.2f}\".format(abs(i)))\n",
    "    phase=cmath.phase(i)\n",
    "    phase=(\"{0:.2f}\".format(phase))\n",
    "    x.append(phase)\n",
    "    print(x)\n",
    "\n",
    "\n",
    "    \n",
    "\n",
    "\n",
    "\n",
    "    "
   ]
  },
  {
   "cell_type": "code",
   "execution_count": 5,
   "metadata": {},
   "outputs": [
    {
     "name": "stdout",
     "output_type": "stream",
     "text": [
      "[0, 10.889999999999999, 1.7777777777777777, 0.039469502998557456]\n"
     ]
    }
   ],
   "source": [
    "import math\n",
    "x=[ 0, 3.3, 4/3,math.sin(.2)]\n",
    "z=[x[i]**2 for i in range(len(x))]\n",
    "print(z)"
   ]
  }
 ],
 "metadata": {
  "kernelspec": {
   "display_name": "Python 3",
   "language": "python",
   "name": "python3"
  },
  "language_info": {
   "codemirror_mode": {
    "name": "ipython",
    "version": 3
   },
   "file_extension": ".py",
   "mimetype": "text/x-python",
   "name": "python",
   "nbconvert_exporter": "python",
   "pygments_lexer": "ipython3",
   "version": "3.10.5"
  },
  "orig_nbformat": 4
 },
 "nbformat": 4,
 "nbformat_minor": 2
}
