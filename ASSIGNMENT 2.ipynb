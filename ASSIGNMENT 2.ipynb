{
 "cells": [
  {
   "cell_type": "code",
   "execution_count": 1,
   "metadata": {},
   "outputs": [
    {
     "name": "stdout",
     "output_type": "stream",
     "text": [
      "[[ 64]\n",
      " [154]\n",
      " [244]]\n"
     ]
    }
   ],
   "source": [
    "import numpy as np\n",
    "A=np.array([[1,2,3],\n",
    "   [4,5,6],\n",
    "   [7,8,9]])\n",
    "B=np.array([[4],\n",
    "   [5],\n",
    "   [6]])\n",
    "C=2*np.matmul(A,B)\n",
    "print(C)\n",
    "\n"
   ]
  },
  {
   "cell_type": "code",
   "execution_count": 11,
   "metadata": {},
   "outputs": [
    {
     "name": "stdout",
     "output_type": "stream",
     "text": [
      "[[-0.78499906 -0.05302338  0.84618828]\n",
      " [-0.84151984  0.04412222  0.88586888]\n",
      " [-0.89006432 -0.03521755  0.91994333]]\n"
     ]
    }
   ],
   "source": [
    "import numpy as np\n",
    "A=np.array([[1,2,3],\n",
    "   [4,5,6],\n",
    "   [7,8,9]])\n",
    "A2=np.linalg.matrix_power(A,3)\n",
    "C=A+A2\n",
    "C=np.sin(C)\n",
    "print(C)"
   ]
  },
  {
   "cell_type": "code",
   "execution_count": 12,
   "metadata": {},
   "outputs": [
    {
     "name": "stdout",
     "output_type": "stream",
     "text": [
      "[[ 430.86076637  371.4888962   629.86427109]\n",
      " [ 676.31057954  760.26311235  981.16053732]\n",
      " [1511.49230895 1286.01866238 2194.16521712]]\n"
     ]
    }
   ],
   "source": [
    "import numpy as np\n",
    "A=np.array([[1,2,3],\n",
    "   [4,5j,6],\n",
    "   [7,8,9]])\n",
    "A2=np.linalg.matrix_power(A,3)\n",
    "C=A+A2\n",
    "C=np.absolute(C)\n",
    "print(C)"
   ]
  },
  {
   "cell_type": "code",
   "execution_count": 15,
   "metadata": {},
   "outputs": [
    {
     "name": "stdout",
     "output_type": "stream",
     "text": [
      "4\n",
      "4\n"
     ]
    }
   ],
   "source": [
    "import numpy as np\n",
    "x=np.array([1,2,3])\n",
    "y=np.array([1,0,1])\n",
    "C=np.matmul(x,y)\n",
    "print(C)\n",
    "D=np.dot(y,x)\n",
    "print(D)\n"
   ]
  },
  {
   "cell_type": "code",
   "execution_count": 4,
   "metadata": {},
   "outputs": [
    {
     "name": "stdout",
     "output_type": "stream",
     "text": [
      "[[1 0 1]\n",
      " [2 0 2]\n",
      " [3 0 3]]\n",
      "4\n"
     ]
    }
   ],
   "source": [
    "import numpy as np\n",
    "x= np.array([1,2,3])\n",
    "y= np.array([1,0,1])\n",
    "z1=np.outer(x,y)\n",
    "z2=np.inner(y,x)\n",
    "print(z1)\n",
    "print(z2)"
   ]
  },
  {
   "cell_type": "code",
   "execution_count": 5,
   "metadata": {},
   "outputs": [
    {
     "name": "stdout",
     "output_type": "stream",
     "text": [
      "[[1 0 1]\n",
      " [2 0 2]\n",
      " [3 0 3]]\n",
      "[[4]]\n"
     ]
    }
   ],
   "source": [
    "import numpy as np\n",
    "x= np.array([1,2,3])\n",
    "y= np.array([1,0,1])\n",
    "x=np.reshape(x,(3,1))\n",
    "y=np.reshape(y,(1,3))\n",
    "z1=np.dot(x,y)\n",
    "z2=np.dot(y,x)\n",
    "print(z1)\n",
    "print(z2)"
   ]
  },
  {
   "cell_type": "code",
   "execution_count": 19,
   "metadata": {},
   "outputs": [
    {
     "name": "stdout",
     "output_type": "stream",
     "text": [
      "[[0.85  0.    0.   ]\n",
      " [0.    1.7   0.   ]\n",
      " [0.    0.    0.425]]\n"
     ]
    }
   ],
   "source": [
    "import numpy as np\n",
    "x=0.85\n",
    "y=2\n",
    "diagonal=np.array([x,x*y,x/y])\n",
    "dmatrix=np.diag(diagonal)\n",
    "print(dmatrix)"
   ]
  },
  {
   "cell_type": "code",
   "execution_count": 22,
   "metadata": {},
   "outputs": [
    {
     "name": "stdout",
     "output_type": "stream",
     "text": [
      "2723\n"
     ]
    }
   ],
   "source": [
    "import numpy as np\n",
    "x=np.array([2,7,12,17,22,27,32])\n",
    "x=np.square(x)\n",
    "z=np.sum(x)\n",
    "print(z)\n",
    "\n"
   ]
  },
  {
   "cell_type": "code",
   "execution_count": 23,
   "metadata": {},
   "outputs": [
    {
     "name": "stdout",
     "output_type": "stream",
     "text": [
      "[[6 8 7]\n",
      " [4 6 6]\n",
      " [5 7 4]]\n",
      "[4 4 5 6 6 6 7 7 8]\n"
     ]
    }
   ],
   "source": [
    "import numpy as np\n",
    "x = np.random.randint(0, 10, size=(3, 3))\n",
    "print(x)\n",
    "y=np.sort(x, axis=None)\n",
    "print(y)\n",
    "\n"
   ]
  },
  {
   "cell_type": "code",
   "execution_count": 24,
   "metadata": {},
   "outputs": [
    {
     "name": "stdout",
     "output_type": "stream",
     "text": [
      "[[[6 7]\n",
      "  [7 2]]\n",
      "\n",
      " [[3 4]\n",
      "  [8 3]]\n",
      "\n",
      " [[5 2]\n",
      "  [2 2]]]\n",
      "[2 2 2 2 3 3 4 5 6 7 7 8]\n"
     ]
    }
   ],
   "source": [
    "import numpy as np\n",
    "x = np.random.randint(0, 10, size=(3, 2,2))\n",
    "print(x)\n",
    "y=np.sort(x, axis=None)\n",
    "print(y)"
   ]
  },
  {
   "cell_type": "code",
   "execution_count": 25,
   "metadata": {},
   "outputs": [
    {
     "name": "stdout",
     "output_type": "stream",
     "text": [
      "[[ 1  2  3  4  5  6  7  8]\n",
      " [ 9 10 11 12 13 14 15 16]\n",
      " [17 18 19 20 21 22 23 24]]\n"
     ]
    }
   ],
   "source": [
    "import numpy as np\n",
    "x=[1,2,3,4,5,6,7,8,9,10,11,12,13,14,15,16,17,18,19,20,21,22,23,24]\n",
    "y=np.resize(x,(3,8))\n",
    "print(y)"
   ]
  },
  {
   "cell_type": "code",
   "execution_count": 27,
   "metadata": {},
   "outputs": [
    {
     "name": "stdout",
     "output_type": "stream",
     "text": [
      "4.923458286012058e+41\n"
     ]
    }
   ],
   "source": [
    "import numpy as np\n",
    "x=np.array([1,2,3])\n",
    "y=np.array([12,15,18])\n",
    "dp=np.dot(x,y)\n",
    "exponential=np.exp(dp)\n",
    "print(exponential)"
   ]
  },
  {
   "cell_type": "code",
   "execution_count": 28,
   "metadata": {},
   "outputs": [
    {
     "name": "stdout",
     "output_type": "stream",
     "text": [
      "4.123105625617661\n"
     ]
    }
   ],
   "source": [
    "import numpy as np\n",
    "x1=np.array([0,2,3])\n",
    "x2=np.array([1,2,2])\n",
    "cross=np.cross(x1,x2)\n",
    "area=np.linalg.norm(cross)\n",
    "print(area)"
   ]
  },
  {
   "cell_type": "code",
   "execution_count": 1,
   "metadata": {},
   "outputs": [
    {
     "name": "stdout",
     "output_type": "stream",
     "text": [
      "[[88]]\n",
      "[[1 2 3]\n",
      " [2 4 6]\n",
      " [3 6 9]]\n"
     ]
    }
   ],
   "source": [
    "import numpy as np\n",
    "x=np.array([[1,2,0],\n",
    "   [2,7,1],\n",
    "   [0,0,5]])\n",
    "y=np.array=([[1],\n",
    "            [2],\n",
    "            [3]])\n",
    "z=np.matmul(np.transpose(y),x)\n",
    "z=np.matmul(z,y)\n",
    "print(z)\n",
    "w=np.matmul(y,np.transpose(y))\n",
    "print(w)"
   ]
  },
  {
   "cell_type": "code",
   "execution_count": 7,
   "metadata": {},
   "outputs": [
    {
     "name": "stdout",
     "output_type": "stream",
     "text": [
      "[[1 2 0]\n",
      " [2 7 1]\n",
      " [0 0 5]]\n",
      "[[1 2 0]\n",
      " [2 7 1]\n",
      " [0 0 5]]\n",
      "[[0 0 0]\n",
      " [0 0 0]\n",
      " [0 0 0]]\n"
     ]
    }
   ],
   "source": [
    "import numpy as np\n",
    "x=np.array([[1,2,0],\n",
    "   [2,7,1],\n",
    "   [0,0,5]])\n",
    "with open(\"array_elements.txt\", \"w\") as file:\n",
    "    for row in x:\n",
    "        file.write(\" \".join(str(element) for element in row))\n",
    "        file.write(\"\\n\")\n",
    "\n",
    "with open(\"array_elements.txt\", \"r\") as file:\n",
    "    lines = file.readlines()\n",
    "    y = np.array([list(map(int, line.strip().split())) for line in lines])\n",
    "z = x - y\n",
    "print(x)\n",
    "print(y)\n",
    "print(z)"
   ]
  }
 ],
 "metadata": {
  "kernelspec": {
   "display_name": "Python 3",
   "language": "python",
   "name": "python3"
  },
  "language_info": {
   "codemirror_mode": {
    "name": "ipython",
    "version": 3
   },
   "file_extension": ".py",
   "mimetype": "text/x-python",
   "name": "python",
   "nbconvert_exporter": "python",
   "pygments_lexer": "ipython3",
   "version": "3.10.5"
  },
  "orig_nbformat": 4
 },
 "nbformat": 4,
 "nbformat_minor": 2
}
